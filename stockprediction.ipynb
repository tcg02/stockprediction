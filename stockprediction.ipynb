{
  "nbformat": 4,
  "nbformat_minor": 0,
  "metadata": {
    "colab": {
      "name": "stockprediction.ipynb",
      "provenance": [],
      "collapsed_sections": [],
      "authorship_tag": "ABX9TyNLMCwRBZLll5WE2lmO55Y/",
      "include_colab_link": true
    },
    "kernelspec": {
      "name": "python3",
      "display_name": "Python 3"
    },
    "language_info": {
      "name": "python"
    }
  },
  "cells": [
    {
      "cell_type": "markdown",
      "metadata": {
        "id": "view-in-github",
        "colab_type": "text"
      },
      "source": [
        "<a href=\"https://colab.research.google.com/github/tcg02/stockprediction/blob/master/stockprediction.ipynb\" target=\"_parent\"><img src=\"https://colab.research.google.com/assets/colab-badge.svg\" alt=\"Open In Colab\"/></a>"
      ]
    },
    {
      "cell_type": "markdown",
      "metadata": {
        "id": "klihkBCAc87w"
      },
      "source": [
        "#This program uses LSTM to predict stock closing price.\n"
      ]
    },
    {
      "cell_type": "code",
      "metadata": {
        "id": "rxCMyynXZ245"
      },
      "source": [
        "#import required libs\n",
        "import math\n",
        "import pandas_datareader as web\n",
        "import numpy as np\n",
        "import pandas as pd\n",
        "from sklearn.preprocessing import MinMaxScaler\n",
        "from keras.models import Sequential\n",
        "from keras.layers import Dense, LSTM\n",
        "import matplotlib.pyplot as plt\n",
        "plt.style.use('fivethirtyeight')"
      ],
      "execution_count": null,
      "outputs": []
    },
    {
      "cell_type": "code",
      "metadata": {
        "colab": {
          "base_uri": "https://localhost:8080/",
          "height": 450
        },
        "id": "DQqDwcrEe1p6",
        "outputId": "3b7ff167-b0a8-4a5b-81e1-908fd878bd79"
      },
      "source": [
        "#get the stock quote\n",
        "df = web.DataReader('AAPL', data_source = 'yahoo', start='2016-01-01',end='2021-04-12')\n",
        "#show the data\n",
        "df"
      ],
      "execution_count": null,
      "outputs": [
        {
          "output_type": "execute_result",
          "data": {
            "text/html": [
              "<div>\n",
              "<style scoped>\n",
              "    .dataframe tbody tr th:only-of-type {\n",
              "        vertical-align: middle;\n",
              "    }\n",
              "\n",
              "    .dataframe tbody tr th {\n",
              "        vertical-align: top;\n",
              "    }\n",
              "\n",
              "    .dataframe thead th {\n",
              "        text-align: right;\n",
              "    }\n",
              "</style>\n",
              "<table border=\"1\" class=\"dataframe\">\n",
              "  <thead>\n",
              "    <tr style=\"text-align: right;\">\n",
              "      <th></th>\n",
              "      <th>High</th>\n",
              "      <th>Low</th>\n",
              "      <th>Open</th>\n",
              "      <th>Close</th>\n",
              "      <th>Volume</th>\n",
              "      <th>Adj Close</th>\n",
              "    </tr>\n",
              "    <tr>\n",
              "      <th>Date</th>\n",
              "      <th></th>\n",
              "      <th></th>\n",
              "      <th></th>\n",
              "      <th></th>\n",
              "      <th></th>\n",
              "      <th></th>\n",
              "    </tr>\n",
              "  </thead>\n",
              "  <tbody>\n",
              "    <tr>\n",
              "      <th>2016-01-04</th>\n",
              "      <td>26.342501</td>\n",
              "      <td>25.500000</td>\n",
              "      <td>25.652500</td>\n",
              "      <td>26.337500</td>\n",
              "      <td>270597600.0</td>\n",
              "      <td>24.364536</td>\n",
              "    </tr>\n",
              "    <tr>\n",
              "      <th>2016-01-05</th>\n",
              "      <td>26.462500</td>\n",
              "      <td>25.602501</td>\n",
              "      <td>26.437500</td>\n",
              "      <td>25.677500</td>\n",
              "      <td>223164000.0</td>\n",
              "      <td>23.753977</td>\n",
              "    </tr>\n",
              "    <tr>\n",
              "      <th>2016-01-06</th>\n",
              "      <td>25.592501</td>\n",
              "      <td>24.967501</td>\n",
              "      <td>25.139999</td>\n",
              "      <td>25.174999</td>\n",
              "      <td>273829600.0</td>\n",
              "      <td>23.289116</td>\n",
              "    </tr>\n",
              "    <tr>\n",
              "      <th>2016-01-07</th>\n",
              "      <td>25.032499</td>\n",
              "      <td>24.107500</td>\n",
              "      <td>24.670000</td>\n",
              "      <td>24.112499</td>\n",
              "      <td>324377600.0</td>\n",
              "      <td>22.306208</td>\n",
              "    </tr>\n",
              "    <tr>\n",
              "      <th>2016-01-08</th>\n",
              "      <td>24.777500</td>\n",
              "      <td>24.190001</td>\n",
              "      <td>24.637501</td>\n",
              "      <td>24.240000</td>\n",
              "      <td>283192000.0</td>\n",
              "      <td>22.424154</td>\n",
              "    </tr>\n",
              "    <tr>\n",
              "      <th>...</th>\n",
              "      <td>...</td>\n",
              "      <td>...</td>\n",
              "      <td>...</td>\n",
              "      <td>...</td>\n",
              "      <td>...</td>\n",
              "      <td>...</td>\n",
              "    </tr>\n",
              "    <tr>\n",
              "      <th>2021-04-06</th>\n",
              "      <td>127.129997</td>\n",
              "      <td>125.650002</td>\n",
              "      <td>126.500000</td>\n",
              "      <td>126.209999</td>\n",
              "      <td>80171300.0</td>\n",
              "      <td>126.209999</td>\n",
              "    </tr>\n",
              "    <tr>\n",
              "      <th>2021-04-07</th>\n",
              "      <td>127.919998</td>\n",
              "      <td>125.139999</td>\n",
              "      <td>125.830002</td>\n",
              "      <td>127.900002</td>\n",
              "      <td>83466700.0</td>\n",
              "      <td>127.900002</td>\n",
              "    </tr>\n",
              "    <tr>\n",
              "      <th>2021-04-08</th>\n",
              "      <td>130.389999</td>\n",
              "      <td>128.520004</td>\n",
              "      <td>128.949997</td>\n",
              "      <td>130.360001</td>\n",
              "      <td>88844600.0</td>\n",
              "      <td>130.360001</td>\n",
              "    </tr>\n",
              "    <tr>\n",
              "      <th>2021-04-09</th>\n",
              "      <td>133.039993</td>\n",
              "      <td>129.470001</td>\n",
              "      <td>129.800003</td>\n",
              "      <td>133.000000</td>\n",
              "      <td>106513800.0</td>\n",
              "      <td>133.000000</td>\n",
              "    </tr>\n",
              "    <tr>\n",
              "      <th>2021-04-12</th>\n",
              "      <td>132.850006</td>\n",
              "      <td>130.630005</td>\n",
              "      <td>132.520004</td>\n",
              "      <td>131.240005</td>\n",
              "      <td>91286600.0</td>\n",
              "      <td>131.240005</td>\n",
              "    </tr>\n",
              "  </tbody>\n",
              "</table>\n",
              "<p>1327 rows × 6 columns</p>\n",
              "</div>"
            ],
            "text/plain": [
              "                  High         Low  ...       Volume   Adj Close\n",
              "Date                                ...                         \n",
              "2016-01-04   26.342501   25.500000  ...  270597600.0   24.364536\n",
              "2016-01-05   26.462500   25.602501  ...  223164000.0   23.753977\n",
              "2016-01-06   25.592501   24.967501  ...  273829600.0   23.289116\n",
              "2016-01-07   25.032499   24.107500  ...  324377600.0   22.306208\n",
              "2016-01-08   24.777500   24.190001  ...  283192000.0   22.424154\n",
              "...                ...         ...  ...          ...         ...\n",
              "2021-04-06  127.129997  125.650002  ...   80171300.0  126.209999\n",
              "2021-04-07  127.919998  125.139999  ...   83466700.0  127.900002\n",
              "2021-04-08  130.389999  128.520004  ...   88844600.0  130.360001\n",
              "2021-04-09  133.039993  129.470001  ...  106513800.0  133.000000\n",
              "2021-04-12  132.850006  130.630005  ...   91286600.0  131.240005\n",
              "\n",
              "[1327 rows x 6 columns]"
            ]
          },
          "metadata": {
            "tags": []
          },
          "execution_count": 2
        }
      ]
    },
    {
      "cell_type": "code",
      "metadata": {
        "colab": {
          "base_uri": "https://localhost:8080/"
        },
        "id": "AnHejftNjPj8",
        "outputId": "2a226466-d2dc-40e0-983d-3ddd14c2ec6f"
      },
      "source": [
        "df.shape"
      ],
      "execution_count": null,
      "outputs": [
        {
          "output_type": "execute_result",
          "data": {
            "text/plain": [
              "(1327, 6)"
            ]
          },
          "metadata": {
            "tags": []
          },
          "execution_count": 3
        }
      ]
    },
    {
      "cell_type": "code",
      "metadata": {
        "colab": {
          "base_uri": "https://localhost:8080/",
          "height": 535
        },
        "id": "Re43pwBDjUXS",
        "outputId": "54416ac6-5338-4877-8c1a-4273a8fff300"
      },
      "source": [
        "#visualize the closing price history\n",
        "plt.figure(figsize=(16,8))\n",
        "plt.title('Close price history')\n",
        "plt.plot(df['Close'])\n",
        "plt.xlabel('Date', fontsize=18)\n",
        "plt.ylabel('Close Price USD ($)', fontsize=18)"
      ],
      "execution_count": null,
      "outputs": [
        {
          "output_type": "execute_result",
          "data": {
            "text/plain": [
              "Text(0, 0.5, 'Close Price USD ($)')"
            ]
          },
          "metadata": {
            "tags": []
          },
          "execution_count": 4
        },
        {
          "output_type": "display_data",
          "data": {
            "image/png": "[encoded data removed]",
            "text/plain": [
              "<Figure size 1152x576 with 1 Axes>"
            ]
          },
          "metadata": {
            "tags": [],
            "needs_background": "light"
          }
        }
      ]
    },
    {
      "cell_type": "code",
      "metadata": {
        "id": "QgxuL6eKqvtm"
      },
      "source": [
        "#create a new dataframe with only closing price\n",
        "data = df.filter(['Close'])\n",
        "#convert dataframe to numpy array\n",
        "dataset = data.values\n",
        "#Get the number of rows to train the model on\n",
        "training_data_len = math.ceil(len(dataset) * 0.8)\n",
        "\n",
        "time_steps = 60"
      ],
      "execution_count": null,
      "outputs": []
    },
    {
      "cell_type": "code",
      "metadata": {
        "colab": {
          "base_uri": "https://localhost:8080/"
        },
        "id": "yESSPig9uD5u",
        "outputId": "c45810e2-6d3b-413b-dca9-a9e79a12f14e"
      },
      "source": [
        "#Scale the data\n",
        "scaler = MinMaxScaler(feature_range=(0,1))\n",
        "scaled_data = scaler.fit_transform(dataset)\n",
        "scaled_data"
      ],
      "execution_count": null,
      "outputs": [
        {
          "output_type": "execute_result",
          "data": {
            "text/plain": [
              "array([[0.03112171],\n",
              "       [0.02564794],\n",
              "       [0.02148041],\n",
              "       ...,\n",
              "       [0.89384199],\n",
              "       [0.91573707],\n",
              "       [0.90114039]])"
            ]
          },
          "metadata": {
            "tags": []
          },
          "execution_count": 6
        }
      ]
    },
    {
      "cell_type": "code",
      "metadata": {
        "id": "FQallndQur-X"
      },
      "source": [
        "#Create training data set\n",
        "#Create the scaled training data set\n",
        "train_data =scaled_data[0:training_data_len, :]\n",
        "#split the data into x_train and y_train data sets\n",
        "\n",
        "x_train = []\n",
        "y_train = []\n",
        "\n",
        "for i in range(time_steps, len(train_data)):\n",
        "  x_train.append(train_data[i-time_steps:i,0])\n",
        "  y_train.append(train_data[i, 0])  "
      ],
      "execution_count": null,
      "outputs": []
    },
    {
      "cell_type": "code",
      "metadata": {
        "id": "CbJJCUVbJbkn"
      },
      "source": [
        "#Convert x_train and y_train to numpy array\n",
        "x_train,y_train = np.array(x_train), np.array(y_train)"
      ],
      "execution_count": null,
      "outputs": []
    },
    {
      "cell_type": "code",
      "metadata": {
        "colab": {
          "base_uri": "https://localhost:8080/"
        },
        "id": "YXzt15guJshj",
        "outputId": "b2f80ab0-6572-4def-b875-69e4906c7deb"
      },
      "source": [
        "#Reshape the data as LSTM expect data to be 3D\n",
        "x_train = np.reshape(x_train, (x_train.shape[0], time_steps, 1))\n",
        "x_train.shape\n"
      ],
      "execution_count": null,
      "outputs": [
        {
          "output_type": "execute_result",
          "data": {
            "text/plain": [
              "(1002, 60, 1)"
            ]
          },
          "metadata": {
            "tags": []
          },
          "execution_count": 9
        }
      ]
    },
    {
      "cell_type": "code",
      "metadata": {
        "id": "5I_gp85eMJEw"
      },
      "source": [
        "#Build the LSTM Model\n",
        "model = Sequential()\n",
        "model.add(LSTM(50, return_sequences=True, input_shape=(time_steps,1)))\n",
        "model.add(LSTM(50, return_sequences=False))\n",
        "model.add(Dense(25))\n",
        "model.add(Dense(1))\n"
      ],
      "execution_count": null,
      "outputs": []
    },
    {
      "cell_type": "code",
      "metadata": {
        "id": "U_N4XAWrNQr0"
      },
      "source": [
        "#Compile Model\n",
        "model.compile(optimizer='adam', loss='mean_squared_error')"
      ],
      "execution_count": null,
      "outputs": []
    },
    {
      "cell_type": "code",
      "metadata": {
        "colab": {
          "base_uri": "https://localhost:8080/"
        },
        "id": "u-PJX-B8Nby0",
        "outputId": "3710c9d0-1202-49b7-dce1-186111a9d689"
      },
      "source": [
        "#Train \n",
        "model.fit(x_train,y_train, batch_size=1, epochs=10)"
      ],
      "execution_count": null,
      "outputs": [
        {
          "output_type": "stream",
          "text": [
            "Epoch 1/10\n",
            "1002/1002 [==============================] - 24s 21ms/step - loss: 0.0011\n",
            "Epoch 2/10\n",
            "1002/1002 [==============================] - 21s 21ms/step - loss: 4.0681e-04\n",
            "Epoch 3/10\n",
            "1002/1002 [==============================] - 21s 21ms/step - loss: 3.0957e-04\n",
            "Epoch 4/10\n",
            "1002/1002 [==============================] - 21s 21ms/step - loss: 3.0508e-04\n",
            "Epoch 5/10\n",
            "1002/1002 [==============================] - 21s 21ms/step - loss: 1.7382e-04\n",
            "Epoch 6/10\n",
            "1002/1002 [==============================] - 20s 20ms/step - loss: 2.3320e-04\n",
            "Epoch 7/10\n",
            "1002/1002 [==============================] - 21s 21ms/step - loss: 1.3426e-04\n",
            "Epoch 8/10\n",
            "1002/1002 [==============================] - 20s 20ms/step - loss: 1.2930e-04\n",
            "Epoch 9/10\n",
            "1002/1002 [==============================] - 21s 20ms/step - loss: 1.6299e-04\n",
            "Epoch 10/10\n",
            "1002/1002 [==============================] - 21s 21ms/step - loss: 1.2847e-04\n"
          ],
          "name": "stdout"
        },
        {
          "output_type": "execute_result",
          "data": {
            "text/plain": [
              "<tensorflow.python.keras.callbacks.History at 0x7f378c291d50>"
            ]
          },
          "metadata": {
            "tags": []
          },
          "execution_count": 12
        }
      ]
    },
    {
      "cell_type": "code",
      "metadata": {
        "id": "hviGlFkAP8PI"
      },
      "source": [
        "#Create the testing data set\n",
        "\n",
        "test_data = scaled_data[training_data_len - time_steps: , :]\n",
        "#Create the data sets x_test and y_test\n",
        "x_test = []\n",
        "y_test = dataset[training_data_len:,:]\n",
        "for i in range(time_steps, len(test_data)):\n",
        "  x_test.append(test_data[i-time_steps:i,0])"
      ],
      "execution_count": null,
      "outputs": []
    },
    {
      "cell_type": "code",
      "metadata": {
        "id": "1iLxaZ2uSE_d"
      },
      "source": [
        "#Convert the data to a numpy array\n",
        "x_test = np.array(x_test)"
      ],
      "execution_count": null,
      "outputs": []
    },
    {
      "cell_type": "code",
      "metadata": {
        "id": "szwtE-59SPhV"
      },
      "source": [
        "#Reshape the data\n",
        "x_test = np.reshape(x_test,(x_test.shape[0],time_steps,1))\n"
      ],
      "execution_count": null,
      "outputs": []
    },
    {
      "cell_type": "code",
      "metadata": {
        "id": "ssr2_KMAS0Rp"
      },
      "source": [
        "#Get the models predicted price values\n",
        "predictions = model.predict(x_test)\n",
        "predictions = scaler.inverse_transform(predictions)\n"
      ],
      "execution_count": null,
      "outputs": []
    },
    {
      "cell_type": "code",
      "metadata": {
        "colab": {
          "base_uri": "https://localhost:8080/"
        },
        "id": "VheWVGvSTgtw",
        "outputId": "5ed4f320-d9fd-4fb7-882a-b00b85bfd062"
      },
      "source": [
        "#Evaluate the predictions using RMSE\n",
        "rmse = np.sqrt(np.mean(predictions - y_test)**2)\n",
        "rmse"
      ],
      "execution_count": null,
      "outputs": [
        {
          "output_type": "execute_result",
          "data": {
            "text/plain": [
              "1.8763321498654923"
            ]
          },
          "metadata": {
            "tags": []
          },
          "execution_count": 17
        }
      ]
    },
    {
      "cell_type": "code",
      "metadata": {
        "colab": {
          "base_uri": "https://localhost:8080/",
          "height": 620
        },
        "id": "vv2oAV_BUcVg",
        "outputId": "bcf5b46e-8ea1-4e6c-b14e-6e9043802f20"
      },
      "source": [
        "#plot the data\n",
        "train = data[:training_data_len]\n",
        "valid = data[training_data_len:]\n",
        "valid['predictions'] = predictions\n",
        "\n",
        "#Visualize\n",
        "plt.figure(figsize=(16,8))\n",
        "plt.title('Model')      \n",
        "plt.xlabel('Date', fontsize=18)\n",
        "plt.ylabel('Close Price USD ($)', fontsize=18)\n",
        "plt.plot(train['Close'])\n",
        "plt.plot(valid[['Close','predictions']])\n",
        "plt.legend(['Train','Validation','Predictions'], loc='lower right')\n",
        "plt.show()\n"
      ],
      "execution_count": null,
      "outputs": [
        {
          "output_type": "stream",
          "text": [
            "/usr/local/lib/python3.7/dist-packages/ipykernel_launcher.py:4: SettingWithCopyWarning: \n",
            "A value is trying to be set on a copy of a slice from a DataFrame.\n",
            "Try using .loc[row_indexer,col_indexer] = value instead\n",
            "\n",
            "See the caveats in the documentation: https://pandas.pydata.org/pandas-docs/stable/user_guide/indexing.html#returning-a-view-versus-a-copy\n",
            "  after removing the cwd from sys.path.\n"
          ],
          "name": "stderr"
        },
        {
          "output_type": "display_data",
          "data": {
            "image/png": "[encoded data removed]",
            "text/plain": [
              "<Figure size 1152x576 with 1 Axes>"
            ]
          },
          "metadata": {
            "tags": [],
            "needs_background": "light"
          }
        }
      ]
    },
    {
      "cell_type": "code",
      "metadata": {
        "colab": {
          "base_uri": "https://localhost:8080/",
          "height": 450
        },
        "id": "yp0gkVPCbJ3R",
        "outputId": "e4ff195e-5ca8-4a20-da48-eeab8f84d824"
      },
      "source": [
        "#Show the actual and prediceted prices\n",
        "valid"
      ],
      "execution_count": null,
      "outputs": [
        {
          "output_type": "execute_result",
          "data": {
            "text/html": [
              "<div>\n",
              "<style scoped>\n",
              "    .dataframe tbody tr th:only-of-type {\n",
              "        vertical-align: middle;\n",
              "    }\n",
              "\n",
              "    .dataframe tbody tr th {\n",
              "        vertical-align: top;\n",
              "    }\n",
              "\n",
              "    .dataframe thead th {\n",
              "        text-align: right;\n",
              "    }\n",
              "</style>\n",
              "<table border=\"1\" class=\"dataframe\">\n",
              "  <thead>\n",
              "    <tr style=\"text-align: right;\">\n",
              "      <th></th>\n",
              "      <th>Close</th>\n",
              "      <th>predictions</th>\n",
              "    </tr>\n",
              "    <tr>\n",
              "      <th>Date</th>\n",
              "      <th></th>\n",
              "      <th></th>\n",
              "    </tr>\n",
              "  </thead>\n",
              "  <tbody>\n",
              "    <tr>\n",
              "      <th>2020-03-24</th>\n",
              "      <td>61.720001</td>\n",
              "      <td>56.348278</td>\n",
              "    </tr>\n",
              "    <tr>\n",
              "      <th>2020-03-25</th>\n",
              "      <td>61.380001</td>\n",
              "      <td>60.071602</td>\n",
              "    </tr>\n",
              "    <tr>\n",
              "      <th>2020-03-26</th>\n",
              "      <td>64.610001</td>\n",
              "      <td>61.337124</td>\n",
              "    </tr>\n",
              "    <tr>\n",
              "      <th>2020-03-27</th>\n",
              "      <td>61.935001</td>\n",
              "      <td>63.967907</td>\n",
              "    </tr>\n",
              "    <tr>\n",
              "      <th>2020-03-30</th>\n",
              "      <td>63.702499</td>\n",
              "      <td>62.736530</td>\n",
              "    </tr>\n",
              "    <tr>\n",
              "      <th>...</th>\n",
              "      <td>...</td>\n",
              "      <td>...</td>\n",
              "    </tr>\n",
              "    <tr>\n",
              "      <th>2021-04-06</th>\n",
              "      <td>126.209999</td>\n",
              "      <td>123.496925</td>\n",
              "    </tr>\n",
              "    <tr>\n",
              "      <th>2021-04-07</th>\n",
              "      <td>127.900002</td>\n",
              "      <td>124.302597</td>\n",
              "    </tr>\n",
              "    <tr>\n",
              "      <th>2021-04-08</th>\n",
              "      <td>130.360001</td>\n",
              "      <td>125.630981</td>\n",
              "    </tr>\n",
              "    <tr>\n",
              "      <th>2021-04-09</th>\n",
              "      <td>133.000000</td>\n",
              "      <td>127.886902</td>\n",
              "    </tr>\n",
              "    <tr>\n",
              "      <th>2021-04-12</th>\n",
              "      <td>131.240005</td>\n",
              "      <td>130.502563</td>\n",
              "    </tr>\n",
              "  </tbody>\n",
              "</table>\n",
              "<p>265 rows × 2 columns</p>\n",
              "</div>"
            ],
            "text/plain": [
              "                 Close  predictions\n",
              "Date                               \n",
              "2020-03-24   61.720001    56.348278\n",
              "2020-03-25   61.380001    60.071602\n",
              "2020-03-26   64.610001    61.337124\n",
              "2020-03-27   61.935001    63.967907\n",
              "2020-03-30   63.702499    62.736530\n",
              "...                ...          ...\n",
              "2021-04-06  126.209999   123.496925\n",
              "2021-04-07  127.900002   124.302597\n",
              "2021-04-08  130.360001   125.630981\n",
              "2021-04-09  133.000000   127.886902\n",
              "2021-04-12  131.240005   130.502563\n",
              "\n",
              "[265 rows x 2 columns]"
            ]
          },
          "metadata": {
            "tags": []
          },
          "execution_count": 19
        }
      ]
    }
  ]
}